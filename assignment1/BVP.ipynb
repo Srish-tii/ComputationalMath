{
 "cells": [
  {
   "cell_type": "code",
   "execution_count": 32,
   "id": "0240b770",
   "metadata": {},
   "outputs": [
    {
     "name": "stdout",
     "output_type": "stream",
     "text": [
      "n          Error          \n",
      "-------------------------\n",
      "20         0.04449498299721331\n",
      "40         0.01087331208736198\n",
      "80         0.0026882042625084547\n",
      "160        0.0006683566050144277\n"
     ]
    }
   ],
   "source": [
    "import numpy as np\n",
    "\n",
    "def exact_solution(x):\n",
    "    return (- (np.exp(np.pi) * (np.cos(x) + np.sin(x))) / 2 - 0.5 * np.exp(x))\n",
    "\n",
    "def bvp(n):\n",
    "    h = np.pi / n\n",
    "    x = np.linspace(0, np.pi, n+1)\n",
    "    A = np.zeros((n+1, n+1))\n",
    "    F = np.zeros(n+1)\n",
    "    \n",
    "    # Initializing values in matrix A\n",
    "    for j in range(1, n):\n",
    "        A[j, j-1] = 1\n",
    "        A[j, j] = h**2 - 2\n",
    "        A[j, j+1] = 1\n",
    "    \n",
    "    # Initializing values in F\n",
    "    F[1:n+1] = -np.exp(x[1:n+1])*h**2\n",
    "    F[0] = -1*h**2\n",
    "    \n",
    "    # Initializing other values in A\n",
    "    A[0, 0] =  h**2 - 2 -2*h\n",
    "    A[n, n] =  h**2 - 2 -2*h\n",
    "    A[0, 1] = 2\n",
    "    A[n, n-1] = 2\n",
    "    \n",
    "    # Calculating U Matrix\n",
    "    U = np.linalg.solve(A, F)\n",
    "    return U, x\n",
    "\n",
    "n_values = [20, 40, 80, 160]\n",
    "errors = []\n",
    "\n",
    "for n in n_values:\n",
    "    U, x = bvp(n)\n",
    "    error = np.sqrt(np.sum(0.5 * (U - exact_solution(x))**2)*(np.pi/n))\n",
    "    errors.append(error)\n",
    "\n",
    "print(\"The table for required error results:\\n\")\n",
    "print(\"{:<10} {:<15}\".format(\"n\", \"Error\"))\n",
    "print(\"-\" * 25)\n",
    "for i in range(len(n_values)):\n",
    "    print(\"{:<10} {:<15}\".format(n_values[i], errors[i]))\n"
   ]
  },
  {
   "cell_type": "code",
   "execution_count": null,
   "id": "cbbacd33",
   "metadata": {},
   "outputs": [],
   "source": []
  }
 ],
 "metadata": {
  "kernelspec": {
   "display_name": "Python 3 (ipykernel)",
   "language": "python",
   "name": "python3"
  },
  "language_info": {
   "codemirror_mode": {
    "name": "ipython",
    "version": 3
   },
   "file_extension": ".py",
   "mimetype": "text/x-python",
   "name": "python",
   "nbconvert_exporter": "python",
   "pygments_lexer": "ipython3",
   "version": "3.11.4"
  }
 },
 "nbformat": 4,
 "nbformat_minor": 5
}
