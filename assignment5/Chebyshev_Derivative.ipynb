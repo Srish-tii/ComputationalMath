{
  "nbformat": 4,
  "nbformat_minor": 0,
  "metadata": {
    "colab": {
      "provenance": []
    },
    "kernelspec": {
      "name": "python3",
      "display_name": "Python 3"
    },
    "language_info": {
      "name": "python"
    }
  },
  "cells": [
    {
      "cell_type": "code",
      "execution_count": null,
      "metadata": {
        "id": "oVJ7e64E34_6"
      },
      "outputs": [],
      "source": [
        "import numpy as np\n",
        "import matplotlib.pyplot as plt\n",
        "from math import *\n",
        "import scipy as sp\n",
        "\n",
        "u = lambda x: exp(x)*(x**2 - 1)\n",
        "uxx = lambda x: exp(x)*(x**2 + 4*x + 1)\n",
        "f = lambda x: uxx(x) + u(x)**5\n",
        "u_guess = lambda x: (x+1)*(x+1)*(x-1)\n"
      ]
    },
    {
      "cell_type": "code",
      "source": [
        "def func(U, D, F):\n",
        "    d2U = np.dot(D, U)\n",
        "    U5 = [u**5 for u in U]\n",
        "    G = d2U + U5 - F\n",
        "    G[0] = U[0]\n",
        "    G[-1] = U[-1]\n",
        "    return G\n",
        "\n",
        "def fprime(U, D):\n",
        "    n = len(U)\n",
        "    dF = np.zeros((n, n))\n",
        "    dF[1:-1,:] = D[1:-1,:]\n",
        "    dF[0,0] = 1\n",
        "    dF[-1,-1] = 1\n",
        "    U4 = [u**4 for u in U]\n",
        "    for i in range (1,n-1):\n",
        "        dF[i,i] += 5*U4[i]\n",
        "    return dF"
      ],
      "metadata": {
        "id": "diAmuLtlH23L"
      },
      "execution_count": null,
      "outputs": []
    },
    {
      "cell_type": "code",
      "source": [
        "def chebyshev_derivative(x,n):\n",
        "    c=np.ones((n+1))\n",
        "    c[0]=2\n",
        "    c[n]=2\n",
        "\n",
        "    D=np.empty((n+1,n+1))\n",
        "    D[0,0]=(2*n*n+1)/6\n",
        "    for i in range(1,n):\n",
        "        D[i,i]=-0.5*x[i]/(1-x[i]*x[i])\n",
        "    D[n,n]=-D[0,0]\n",
        "\n",
        "    for i in range(n+1):\n",
        "        for j in range(n+1):\n",
        "            if i!=j:\n",
        "                D[i,j]=c[i]*(-1)**(i+j)/(c[j]*(x[i]-x[j]))\n",
        "\n",
        "    D2 = np.matmul(D, D)\n",
        "    return D2\n",
        "\n",
        "def chebyshev_points(n):\n",
        "    return np.cos(np.linspace(0, pi, n+1))\n",
        "\n",
        "def err(E):\n",
        "    return sqrt(np.dot(E, E))"
      ],
      "metadata": {
        "id": "D1m6oHS1ayFq"
      },
      "execution_count": null,
      "outputs": []
    },
    {
      "cell_type": "code",
      "source": [
        "def solve(n):\n",
        "    tol = 1e-10\n",
        "    e = 1\n",
        "    MAX_ITER = 1000000\n",
        "\n",
        "    x = chebyshev_points(n)\n",
        "    U = np.asarray([u(xx) for xx in x])\n",
        "\n",
        "    u0 = [u_guess(xx) for xx in x]\n",
        "    D = chebyshev_derivative(x, n)\n",
        "\n",
        "    F = [f(xx) for xx in x]\n",
        "    G = func(u0, D, F)\n",
        "    J = fprime(u0, D)\n",
        "\n",
        "    uk = np.asarray(u0)\n",
        "    cnt = 0\n",
        "    while (e > tol) or (cnt == MAX_ITER):\n",
        "        du = np.linalg.inv(J).dot(G)\n",
        "        uk -= du\n",
        "        G = func(uk, D, F)\n",
        "        J = fprime(uk, D)\n",
        "        e = np.linalg.norm(du, 2)/np.linalg.norm(uk,2)\n",
        "        cnt += 1\n",
        "    return err(U-uk)"
      ],
      "metadata": {
        "id": "Ex3dzZxThhm-"
      },
      "execution_count": null,
      "outputs": []
    },
    {
      "cell_type": "code",
      "source": [
        "E = []\n",
        "N = [4*i for i in range (1,17)]\n",
        "for n in N:\n",
        "    E.append(solve(n))\n",
        "\n",
        "plt.loglog(N, E, color = 'orange')\n",
        "plt.xlim([2, 2**7])\n",
        "plt.xlabel('N')\n",
        "plt.ylabel('Error')\n",
        "plt.title ('Error vs N')\n",
        "plt.show()"
      ],
      "metadata": {
        "colab": {
          "base_uri": "https://localhost:8080/",
          "height": 476
        },
        "id": "JQgNO59MP2Qk",
        "outputId": "dfd54fe5-dd61-4646-ff6d-913957246197"
      },
      "execution_count": null,
      "outputs": [
        {
          "output_type": "display_data",
          "data": {
            "text/plain": [
              "<Figure size 640x480 with 1 Axes>"
            ],
            "image/png": "[encoded data removed]"
          },
          "metadata": {}
        }
      ]
    },
    {
      "cell_type": "code",
      "source": [],
      "metadata": {
        "id": "p2mXP2dzZ1jI"
      },
      "execution_count": null,
      "outputs": []
    }
  ]
}