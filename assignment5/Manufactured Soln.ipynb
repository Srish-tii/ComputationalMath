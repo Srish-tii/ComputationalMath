{
 "cells": [
  {
   "cell_type": "code",
   "execution_count": 8,
   "id": "8bef1be6",
   "metadata": {},
   "outputs": [
    {
     "name": "stderr",
     "output_type": "stream",
     "text": [
      "C:\\Users\\srish\\anaconda3\\Lib\\site-packages\\scipy\\sparse\\linalg\\_dsolve\\linsolve.py:214: SparseEfficiencyWarning: spsolve requires A be CSC or CSR matrix format\n",
      "  warn('spsolve requires A be CSC or CSR matrix format',\n"
     ]
    },
    {
     "name": "stdout",
     "output_type": "stream",
     "text": [
      "Computed solution u at Chebyshev grid points:\n",
      "[ 4.78172245e+01  8.89355969e+01 -3.11634084e+01  7.46993568e+00\n",
      " -1.09836918e+01  8.44287429e+00 -6.55019674e+00  5.62704162e+00\n",
      " -5.07342855e+00  4.84219311e+00 -4.68338240e+00  4.78390377e+00\n",
      "  1.29286662e+01 -2.38814666e+01 -8.19399752e+01 -2.61241420e+02\n",
      " -6.47136907e+01  5.36694682e+00 -5.10934673e+00  5.14727407e+00\n",
      "  6.79865162e+01 -7.34304585e+00 -3.87482762e+01 -1.65736993e+01\n",
      " -2.63192318e+00  4.72983954e+02 -1.33579144e+00  1.35215253e+01\n",
      " -6.58659812e+00  6.32443871e+00 -6.15148450e+00  6.04194267e+00\n",
      " -5.98943216e+00  5.91375216e+00 -5.87787917e+00  5.86146072e+00\n",
      " -5.85134515e+00  5.85656659e+00 -5.86521364e+00  5.88666792e+00\n",
      " -5.91037973e+00  5.94544893e+00 -5.98239648e+00  6.02969068e+00\n",
      " -6.07857848e+00  6.13622498e+00 -6.19298535e+00  6.25016131e+00\n",
      " -6.32168711e+00  3.87782884e+01 -6.75375626e+00  6.82577261e+00\n",
      " -6.93931087e+00  7.08821679e+00 -7.25954348e+00  7.46266590e+00\n",
      " -7.69642916e+00  7.97577075e+00 -4.85256789e+01  8.91499122e+00\n",
      "  1.53048664e+01  1.06151343e+01 -1.15084180e+01 -6.20990939e+03\n",
      "  1.19482906e+01 -1.10603801e+01  3.74320945e+01 -6.90720612e+01\n",
      "  1.03160964e+01 -1.06387752e+01  1.39611280e+01 -7.48986304e+01\n",
      " -5.82861198e+03 -1.42150366e+03  2.06032327e+02  1.26087613e+01\n",
      " -1.19443104e+01  7.52250138e+00 -3.48248098e+00  7.81892157e-01\n",
      "  9.37866230e-01 -2.17348594e+00  3.08690208e+00 -3.90599563e+00\n",
      "  4.66257543e+00 -5.55931360e+00  6.49222485e+00  1.67615606e+02\n",
      " -7.87506316e+00  7.17238969e+00 -6.43692171e+00  1.27899850e+01\n",
      " -1.23879010e+01  2.28072545e+01  1.64848344e+01 -1.24448775e+01\n",
      "  5.34081387e+01 -6.79680827e+00  4.04789835e+00 -8.26147072e+00]\n"
     ]
    }
   ],
   "source": [
    "import numpy as np\n",
    "from scipy.sparse import diags\n",
    "from scipy.sparse.linalg import spsolve\n",
    "\n",
    "def cheb_pts(N):\n",
    "    k = np.arange(N)\n",
    "    x = np.cos(np.pi * k / (N - 1))\n",
    "    return x\n",
    "\n",
    "def compute_D2(N):\n",
    "    x = cheb_pts(N)\n",
    "    D2 = np.zeros((N, N))\n",
    "    for i in range(N):\n",
    "        for j in range(N):\n",
    "            if i != j:\n",
    "                D2[i, j] = ((-1) ** (i + j)) / (x[i] - x[j])\n",
    "    D2 = D2 - np.diag(np.sum(D2, axis=1))\n",
    "    return D2\n",
    "\n",
    "def residual(u, f):\n",
    "    N = len(u)\n",
    "    x = cheb_pts(N)\n",
    "    D2 = compute_D2(N)\n",
    "    LHS = np.dot(D2, u) + u ** 5\n",
    "    RHS = f(x)\n",
    "    return LHS - RHS\n",
    "\n",
    "def solve_bvp(N, f, tol=1e-8, max_iter=1000):\n",
    "    x = cheb_pts(N)\n",
    "    u = np.zeros(N)\n",
    "    iteration = 0\n",
    "    while True:\n",
    "        residue = residual(u, f)\n",
    "        D2 = compute_D2(N)\n",
    "        J = D2 + np.diag(5 * u ** 4)\n",
    "        \n",
    "        # Construct the banded matrix J using scipy.sparse.diags\n",
    "        diagonals = [J.diagonal(), np.diag(J, k=1), np.diag(J, k=-1)]\n",
    "        ab = diags(diagonals, [0, 1, -1])\n",
    "        \n",
    "        delta_u = spsolve(ab, -residue)\n",
    "        u += delta_u\n",
    "        iteration += 1\n",
    "        if np.linalg.norm(delta_u, np.inf) < tol or iteration >= max_iter:\n",
    "            break\n",
    "    return u, x\n",
    "\n",
    "# Example of usage:\n",
    "def f_example(x):\n",
    "    return np.sin(np.pi * x)\n",
    "\n",
    "N = 100  # Number of grid points\n",
    "u, x = solve_bvp(N, f_example)\n",
    "\n",
    "# Display or use the result as needed\n",
    "print(\"Computed solution u at Chebyshev grid points:\")\n",
    "print(u)\n"
   ]
  },
  {
   "cell_type": "code",
   "execution_count": 9,
   "id": "7f920ebc",
   "metadata": {},
   "outputs": [
    {
     "name": "stdout",
     "output_type": "stream",
     "text": [
      "The source term f(x) that satisfies the differential equation is:\n",
      "(x**2 - 1)**5*exp(5*x) + (x**2 + 4*x + 1)*exp(x)\n"
     ]
    }
   ],
   "source": [
    "import sympy as sp\n",
    "\n",
    "# Define the symbolic variable\n",
    "x = sp.symbols('x')\n",
    "\n",
    "# Define the function u(x)\n",
    "u = sp.exp(x) * (x**2 - 1)\n",
    "\n",
    "# Compute the derivatives\n",
    "u_xx = sp.diff(u, x, x)\n",
    "u_5 = u**5\n",
    "\n",
    "# Calculate f(x) = u_xx + u^5\n",
    "f_x = u_xx + u_5\n",
    "\n",
    "# Print the expression for f(x)\n",
    "print(\"The source term f(x) that satisfies the differential equation is:\")\n",
    "print(f_x)\n"
   ]
  },
  {
   "cell_type": "code",
   "execution_count": null,
   "id": "eea99da8",
   "metadata": {},
   "outputs": [],
   "source": []
  },
  {
   "cell_type": "code",
   "execution_count": null,
   "id": "331ee561",
   "metadata": {},
   "outputs": [],
   "source": []
  }
 ],
 "metadata": {
  "kernelspec": {
   "display_name": "Python 3 (ipykernel)",
   "language": "python",
   "name": "python3"
  },
  "language_info": {
   "codemirror_mode": {
    "name": "ipython",
    "version": 3
   },
   "file_extension": ".py",
   "mimetype": "text/x-python",
   "name": "python",
   "nbconvert_exporter": "python",
   "pygments_lexer": "ipython3",
   "version": "3.11.4"
  }
 },
 "nbformat": 4,
 "nbformat_minor": 5
}
